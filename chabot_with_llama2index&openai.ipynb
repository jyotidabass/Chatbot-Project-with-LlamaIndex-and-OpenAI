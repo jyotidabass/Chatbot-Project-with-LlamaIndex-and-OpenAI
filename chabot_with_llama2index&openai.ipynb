{
 "cells": [
  {
   "cell_type": "markdown",
   "metadata": {},
   "source": [
    "## Chatbot with LlamaIndex And Openai:\n",
    "\n"
   ]
  },
  {
   "cell_type": "markdown",
   "metadata": {},
   "source": [
    "LlamaIndex serves as a bridge between your data and Large Language Models (LLMs), providing a toolkit that enables you to establish a query interface around your data for a variety of tasks, such as question-answering and summarization."
   ]
  },
  {
   "cell_type": "markdown",
   "metadata": {},
   "source": [
    "**1- Ingest Data**"
   ]
  },
  {
   "cell_type": "code",
   "execution_count": 1,
   "metadata": {},
   "outputs": [],
   "source": [
    "import os\n",
    "import openai\n",
    "\n",
    "os.environ[\"OPENAI_API_KEY\"] = \"sk-openai_api_key\"\n",
    "openai.api_key = os.environ[\"OPENAI_API_KEY\"]\n",
    "\n",
    "import nest_asyncio\n",
    "\n",
    "nest_asyncio.apply()"
   ]
  },
  {
   "cell_type": "code",
   "execution_count": 5,
   "metadata": {},
   "outputs": [],
   "source": [
    "from llama_hub.file.unstructured.base import UnstructuredReader\n",
    "from pathlib import Path"
   ]
  },
  {
   "cell_type": "code",
   "execution_count": 6,
   "metadata": {},
   "outputs": [
    {
     "name": "stdout",
     "output_type": "stream",
     "text": [
      "mkdir: data: File exists\n",
      "--2023-11-14 21:11:55--  https://www.dropbox.com/s/948jr9cfs7fgj99/UBER.zip?dl=1\n",
      "Resolving www.dropbox.com (www.dropbox.com)... 157.240.12.50\n",
      "Connecting to www.dropbox.com (www.dropbox.com)|157.240.12.50|:443... failed: Operation timed out.\n",
      "Retrying.\n",
      "\n",
      "--2023-11-14 21:13:11--  (try: 2)  https://www.dropbox.com/s/948jr9cfs7fgj99/UBER.zip?dl=1\n",
      "Connecting to www.dropbox.com (www.dropbox.com)|157.240.12.50|:443... failed: Operation timed out.\n",
      "Retrying.\n",
      "\n",
      "--2023-11-14 21:14:28--  (try: 3)  https://www.dropbox.com/s/948jr9cfs7fgj99/UBER.zip?dl=1\n",
      "Connecting to www.dropbox.com (www.dropbox.com)|157.240.12.50|:443... failed: Operation timed out.\n",
      "Retrying.\n",
      "\n",
      "--2023-11-14 21:15:46--  (try: 4)  https://www.dropbox.com/s/948jr9cfs7fgj99/UBER.zip?dl=1\n",
      "Connecting to www.dropbox.com (www.dropbox.com)|157.240.12.50|:443... ^C\n",
      "Archive:  data/UBER.zip\n",
      "  End-of-central-directory signature not found.  Either this file is not\n",
      "  a zipfile, or it constitutes one disk of a multi-part archive.  In the\n",
      "  latter case the central directory and zipfile comment will be found on\n",
      "  the last disk(s) of this archive.\n",
      "unzip:  cannot find zipfile directory in one of data/UBER.zip or\n",
      "        data/UBER.zip.zip, and cannot find data/UBER.zip.ZIP, period.\n"
     ]
    }
   ],
   "source": [
    "!mkdir data\n",
    "!wget \"https://www.dropbox.com/s/948jr9cfs7fgj99/UBER.zip?dl=1\" -O data/UBER.zip\n",
    "!unzip data/UBER.zip -d data"
   ]
  },
  {
   "cell_type": "markdown",
   "metadata": {},
   "source": [
    "And the year as a metadata of our documents."
   ]
  },
  {
   "cell_type": "code",
   "execution_count": 9,
   "metadata": {},
   "outputs": [
    {
     "name": "stderr",
     "output_type": "stream",
     "text": [
      "[nltk_data] Downloading package punkt to /Users/smail/nltk_data...\n",
      "[nltk_data]   Package punkt is already up-to-date!\n",
      "[nltk_data] Downloading package averaged_perceptron_tagger to\n",
      "[nltk_data]     /Users/smail/nltk_data...\n",
      "[nltk_data]   Package averaged_perceptron_tagger is already up-to-\n",
      "[nltk_data]       date!\n"
     ]
    }
   ],
   "source": [
    "years = [2022, 2021, 2020, 2019]\n",
    "\n",
    "loader = UnstructuredReader()\n",
    "doc_set = {}\n",
    "all_docs = []\n",
    "for year in years:\n",
    "    year_docs = loader.load_data(\n",
    "        file=Path(f\"./data/UBER/UBER_{year}.html\"), split_documents=False\n",
    "    )\n",
    "    # insert year metadata into each year\n",
    "    for d in year_docs:\n",
    "        d.metadata = {\"year\": year}\n",
    "    doc_set[year] = year_docs\n",
    "    all_docs.extend(year_docs)"
   ]
  },
  {
   "cell_type": "markdown",
   "metadata": {},
   "source": [
    "**2- Setting up Vector Indices for each year:**"
   ]
  },
  {
   "cell_type": "code",
   "execution_count": 16,
   "metadata": {},
   "outputs": [],
   "source": [
    "# initialize simple vector indices\n",
    "from llama_index import VectorStoreIndex, ServiceContext, StorageContext"
   ]
  },
  {
   "cell_type": "code",
   "execution_count": 17,
   "metadata": {},
   "outputs": [],
   "source": [
    "index_set = {}\n",
    "service_context = ServiceContext.from_defaults(chunk_size=512)"
   ]
  },
  {
   "cell_type": "code",
   "execution_count": 19,
   "metadata": {},
   "outputs": [],
   "source": [
    "\n",
    "\n",
    "for year in years:\n",
    "    storage_context = StorageContext.from_defaults()\n",
    "    cur_index = VectorStoreIndex.from_documents(\n",
    "        doc_set[year],\n",
    "        service_context=service_context,\n",
    "        storage_context=storage_context,\n",
    "    )\n",
    "    index_set[year] = cur_index\n",
    "    storage_context.persist(persist_dir=f\"./storage/{year}\")"
   ]
  },
  {
   "cell_type": "code",
   "execution_count": 20,
   "metadata": {},
   "outputs": [],
   "source": [
    "# Load indices from disk\n",
    "from llama_index import load_index_from_storage\n",
    "\n",
    "index_set = {}\n",
    "for year in years:\n",
    "    storage_context = StorageContext.from_defaults(\n",
    "        persist_dir=f\"./storage/{year}\"\n",
    "    )\n",
    "    cur_index = load_index_from_storage(\n",
    "        storage_context, service_context=service_context\n",
    "    )\n",
    "    index_set[year] = cur_index"
   ]
  },
  {
   "cell_type": "code",
   "execution_count": 21,
   "metadata": {},
   "outputs": [],
   "source": [
    "# Load indices from disk\n",
    "from llama_index import load_index_from_storage\n",
    "\n",
    "index_set = {}\n",
    "for year in years:\n",
    "    storage_context = StorageContext.from_defaults(\n",
    "        persist_dir=f\"./storage/{year}\"\n",
    "    )\n",
    "    cur_index = load_index_from_storage(\n",
    "        storage_context, service_context=service_context\n",
    "    )\n",
    "    index_set[year] = cur_index"
   ]
  },
  {
   "cell_type": "markdown",
   "metadata": {},
   "source": [
    "**3- Setting up a Sub Question Query Engine to Synthesize Answer**"
   ]
  },
  {
   "cell_type": "code",
   "execution_count": 22,
   "metadata": {},
   "outputs": [],
   "source": [
    "from llama_index.tools import QueryEngineTool, ToolMetadata\n",
    "\n",
    "individual_query_engine_tools = [\n",
    "    QueryEngineTool(\n",
    "        query_engine=index_set[year].as_query_engine(),\n",
    "        metadata=ToolMetadata(\n",
    "            name=f\"vector_index_{year}\",\n",
    "            description=f\"useful for when you want to answer queries about the {year} SEC 10-K for Uber\",\n",
    "        ),\n",
    "    )\n",
    "    for year in years\n",
    "]"
   ]
  },
  {
   "cell_type": "code",
   "execution_count": 23,
   "metadata": {},
   "outputs": [],
   "source": [
    "from llama_index.query_engine import SubQuestionQueryEngine\n",
    "\n",
    "query_engine = SubQuestionQueryEngine.from_defaults(\n",
    "    query_engine_tools=individual_query_engine_tools,\n",
    "    service_context=service_context,\n",
    ")"
   ]
  },
  {
   "cell_type": "markdown",
   "metadata": {},
   "source": [
    "**4- Setting up the Chatbot Agent:**"
   ]
  },
  {
   "cell_type": "markdown",
   "metadata": {},
   "source": [
    "We use a LlamaIndex Data Agent to setup the outer chatbot agent, which has access to a set of Tools. Specifically, we will use an OpenAIAgent, that takes advantage of OpenAI API function calling. We want to use the separate Tools we defined previously for each index (corresponding to a given year), as well as a tool for the sub question query engine we defined above."
   ]
  },
  {
   "cell_type": "code",
   "execution_count": 24,
   "metadata": {},
   "outputs": [],
   "source": [
    "query_engine_tool = QueryEngineTool(\n",
    "    query_engine=query_engine,\n",
    "    metadata=ToolMetadata(\n",
    "        name=\"sub_question_query_engine\",\n",
    "        description=\"useful for when you want to answer queries that require analyzing multiple SEC 10-K documents for Uber\",\n",
    "    ),\n",
    ")"
   ]
  },
  {
   "cell_type": "code",
   "execution_count": 26,
   "metadata": {},
   "outputs": [],
   "source": [
    "tools = individual_query_engine_tools + [query_engine_tool]"
   ]
  },
  {
   "cell_type": "code",
   "execution_count": 27,
   "metadata": {},
   "outputs": [],
   "source": [
    "from llama_index.agent import OpenAIAgent\n",
    "\n",
    "agent = OpenAIAgent.from_tools(tools, verbose=True)"
   ]
  },
  {
   "cell_type": "markdown",
   "metadata": {},
   "source": [
    "**4- Testing the Agent**"
   ]
  },
  {
   "cell_type": "code",
   "execution_count": 28,
   "metadata": {},
   "outputs": [
    {
     "name": "stdout",
     "output_type": "stream",
     "text": [
      "STARTING TURN 1\n",
      "---------------\n",
      "\n",
      "Hello Abdo! How can I assist you today?\n"
     ]
    }
   ],
   "source": [
    "response = agent.chat(\"hi, i am abdo\")\n",
    "print(str(response))"
   ]
  },
  {
   "cell_type": "code",
   "execution_count": 29,
   "metadata": {},
   "outputs": [
    {
     "name": "stdout",
     "output_type": "stream",
     "text": [
      "STARTING TURN 1\n",
      "---------------\n",
      "\n",
      "=== Calling Function ===\n",
      "Calling function: vector_index_2020 with args: {\n",
      "  \"input\": \"biggest risk factors\"\n",
      "}\n",
      "Got output: The biggest risk factors mentioned in the context are as follows:\n",
      "\n",
      "1. The COVID-19 pandemic and the impact of actions to mitigate the pandemic.\n",
      "2. The classification of Drivers as employees, workers, or quasi-employees instead of independent contractors.\n",
      "3. Intense competition in the mobility, delivery, and logistics industries.\n",
      "4. The need to lower fares or service fees and offer incentives and discounts to remain competitive.\n",
      "5. Significant losses incurred and the uncertainty of achieving profitability.\n",
      "6. The challenge of attracting and maintaining a critical mass of platform users.\n",
      "7. Operational, compliance, and cultural challenges related to the workplace culture.\n",
      "8. Inquiries, investigations, and requests for information from government agencies.\n",
      "9. Risks related to data collection, use, transfer, disclosure, and other processing.\n",
      "10. The need to successfully introduce new or upgraded products, offerings, or features.\n",
      "11. The requirement to invest in the development of new products and features to retain and attract users.\n",
      "========================\n",
      "\n",
      "STARTING TURN 2\n",
      "---------------\n",
      "\n",
      "In 2020, some of the biggest risk factors for Uber were:\n",
      "\n",
      "1. The impact of the COVID-19 pandemic and the measures taken to mitigate it.\n",
      "2. The classification of drivers as employees, workers, or quasi-employees instead of independent contractors.\n",
      "3. Intense competition in the mobility, delivery, and logistics industries.\n",
      "4. The need to lower fares or service fees and offer incentives and discounts to remain competitive.\n",
      "5. Significant losses incurred and uncertainty about achieving profitability.\n",
      "6. The challenge of attracting and retaining a critical mass of platform users.\n",
      "7. Operational, compliance, and cultural challenges related to the workplace culture.\n",
      "8. Inquiries, investigations, and requests for information from government agencies.\n",
      "9. Risks associated with data collection, use, transfer, disclosure, and other processing.\n",
      "10. The successful introduction of new or upgraded products, offerings, or features.\n",
      "11. The need to invest in the development of new products and features to retain and attract users.\n",
      "\n",
      "These risk factors highlight the challenges and uncertainties faced by Uber in 2020.\n"
     ]
    }
   ],
   "source": [
    "response = agent.chat(\n",
    "    \"What were some of the biggest risk factors in 2020 for Uber?\"\n",
    ")\n",
    "print(str(response))"
   ]
  },
  {
   "cell_type": "code",
   "execution_count": 30,
   "metadata": {},
   "outputs": [
    {
     "name": "stdout",
     "output_type": "stream",
     "text": [
      "STARTING TURN 1\n",
      "---------------\n",
      "\n",
      "=== Calling Function ===\n",
      "Calling function: sub_question_query_engine with args: {\n",
      "  \"input\": \"Compare and contrast risk factors in Uber's 10-K across years\"\n",
      "}\n",
      "Generated 4 sub questions.\n",
      "\u001b[1;3;38;2;237;90;200m[vector_index_2022] Q: What are the risk factors mentioned in Uber's 2022 SEC 10-K?\n",
      "\u001b[0m\u001b[1;3;38;2;90;149;237m[vector_index_2021] Q: What are the risk factors mentioned in Uber's 2021 SEC 10-K?\n",
      "\u001b[0m\u001b[1;3;38;2;11;159;203m[vector_index_2020] Q: What are the risk factors mentioned in Uber's 2020 SEC 10-K?\n",
      "\u001b[0m\u001b[1;3;38;2;155;135;227m[vector_index_2019] Q: What are the risk factors mentioned in Uber's 2019 SEC 10-K?\n",
      "\u001b[0m\u001b[1;3;38;2;237;90;200m[vector_index_2022] A: Some of the risk factors mentioned in Uber's 2022 SEC 10-K include the potential adverse effect on their business if drivers were classified as employees instead of independent contractors, the highly competitive nature of the mobility, delivery, and logistics industries, the need to lower fares or service fees to remain competitive in certain markets, the company's history of significant losses and the expectation of increased operating expenses in the future, and the potential impact on their platform if they are unable to attract or maintain a critical mass of drivers, consumers, merchants, shippers, and carriers.\n",
      "\u001b[0m\u001b[1;3;38;2;155;135;227m[vector_index_2019] A: The risk factors mentioned in Uber's 2019 SEC 10-K include legal proceedings, litigation, claims, and government investigations, particularly related to the classification of drivers and compliance with applicable laws. The company also highlights the risk of operating in certain jurisdictions outside the United States where they may have less legal protection. Additionally, Uber mentions the loss of their license to operate in London as a risk factor. The company also acknowledges the complexities and uncertainties arising from the regulatory environment and the potential impact on their business and operating model. Furthermore, Uber notes the evolving laws, rules, and regulations regarding autonomous vehicles, which may impose restrictions on their development and deployment. Lastly, the company highlights the increasing number of data protection and privacy laws around the world and the potential fines and penalties associated with non-compliance.\n",
      "\u001b[0m\u001b[1;3;38;2;11;159;203m[vector_index_2020] A: The risk factors mentioned in Uber's 2020 SEC 10-K include the adverse impact of the COVID-19 pandemic on their business, the potential reclassification of drivers as employees instead of independent contractors, intense competition in the mobility, delivery, and logistics industries, the need to lower fares and offer incentives to remain competitive, significant losses incurred by the company, the importance of attracting and retaining a critical mass of drivers and users, and the operational and cultural challenges associated with their workplace culture.\n",
      "\u001b[0m\u001b[1;3;38;2;90;149;237m[vector_index_2021] A: Uber's 2021 SEC 10-K mentions several risk factors. These include the adverse impact of the COVID-19 pandemic and related mitigation actions on their business, the potential reclassification of drivers as employees or workers instead of independent contractors, intense competition in the mobility, delivery, and logistics industries, the need to lower fares or service fees to remain competitive, significant losses incurred by the company, the challenge of attracting and maintaining a critical mass of drivers, consumers, merchants, shippers, and carriers, and uncertainties surrounding the impact of COVID-19 on their business and financial position. Additionally, the classification of drivers is being challenged in courts and by government agencies, which could have legal and financial implications for the company.\n",
      "\u001b[0mGot output: The risk factors mentioned in Uber's 10-K filings vary across different years. In 2019, the risk factors focused on legal proceedings, litigation, and government investigations related to driver classification and compliance with laws. The loss of their license in London and the regulatory environment were also highlighted. In 2020, the risk factors included the adverse impact of the COVID-19 pandemic, driver reclassification, intense competition, and the need to lower fares. The importance of attracting and retaining drivers and users was also mentioned. In 2021, the risk factors remained similar, with the addition of uncertainties surrounding the impact of COVID-19 on their business and financial position. The challenge of attracting and maintaining a critical mass of drivers, consumers, merchants, shippers, and carriers was emphasized. In 2022, the risk factors included potential adverse effects if drivers were classified as employees, intense competition, the need to lower fares or service fees, significant losses, and the importance of attracting and maintaining a critical mass of drivers, consumers, merchants, shippers, and carriers.\n",
      "========================\n",
      "\n",
      "STARTING TURN 2\n",
      "---------------\n",
      "\n",
      "Here is a comparison of the risk factors described in Uber's 10-K filings across different years:\n",
      "\n",
      "2019:\n",
      "- Legal proceedings, litigation, and government investigations related to driver classification and compliance with laws.\n",
      "- Loss of license in London and regulatory environment.\n",
      "\n",
      "2020:\n",
      "- Adverse impact of the COVID-19 pandemic.\n",
      "- Driver reclassification.\n",
      "- Intense competition.\n",
      "- Need to lower fares.\n",
      "- Importance of attracting and retaining drivers and users.\n",
      "\n",
      "2021:\n",
      "- Similar risk factors as in 2020.\n",
      "- Uncertainties surrounding the impact of COVID-19 on business and financial position.\n",
      "- Challenge of attracting and maintaining a critical mass of drivers, consumers, merchants, shippers, and carriers.\n",
      "\n",
      "2022:\n",
      "- Potential adverse effects if drivers are classified as employees.\n",
      "- Intense competition.\n",
      "- Need to lower fares or service fees.\n",
      "- Significant losses.\n",
      "- Importance of attracting and maintaining a critical mass of drivers, consumers, merchants, shippers, and carriers.\n",
      "\n",
      "These bullet points highlight the evolving risk factors that Uber has identified in its 10-K filings over the years.\n"
     ]
    }
   ],
   "source": [
    "cross_query_str = \"Compare/contrast the risk factors described in the Uber 10-K across years. Give answer in bullet points.\"\n",
    "\n",
    "response = agent.chat(cross_query_str)\n",
    "print(str(response))"
   ]
  },
  {
   "cell_type": "code",
   "execution_count": 33,
   "metadata": {},
   "outputs": [],
   "source": [
    "agent = OpenAIAgent.from_tools(tools)  # verbose=False by default\n",
    "\n",
    "while True:\n",
    "    text_input = input(\"User: \")\n",
    "    if text_input == \"exit\":\n",
    "        break\n",
    "    response = agent.chat(text_input)\n",
    "    print(f\"Agent: {response}\")"
   ]
  }
 ],
 "metadata": {
  "kernelspec": {
   "display_name": "Python 3",
   "language": "python",
   "name": "python3"
  },
  "language_info": {
   "codemirror_mode": {
    "name": "ipython",
    "version": 3
   },
   "file_extension": ".py",
   "mimetype": "text/x-python",
   "name": "python",
   "nbconvert_exporter": "python",
   "pygments_lexer": "ipython3",
   "version": "3.10.0"
  }
 },
 "nbformat": 4,
 "nbformat_minor": 2
}
